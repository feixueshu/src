{
 "cells": [
  {
   "cell_type": "markdown",
   "id": "4e04aa3f-181a-49ca-9e21-2b722f1bd028",
   "metadata": {
    "tags": []
   },
   "source": [
    "### OCI Data Science - Useful Tips\n",
    "<details>\n",
    "<summary><font size=\"2\">Check for Public Internet Access</font></summary>\n",
    "\n",
    "```python\n",
    "import requests\n",
    "response = requests.get(\"https://oracle.com\")\n",
    "assert response.status_code==200, \"Internet connection failed\"\n",
    "```\n",
    "</details>\n",
    "<details>\n",
    "<summary><font size=\"2\">Helpful Documentation </font></summary>\n",
    "<ul><li><a href=\"https://docs.cloud.oracle.com/en-us/iaas/data-science/using/data-science.htm\">Data Science Service Documentation</a></li>\n",
    "<li><a href=\"https://docs.cloud.oracle.com/iaas/tools/ads-sdk/latest/index.html\">ADS documentation</a></li>\n",
    "</ul>\n",
    "</details>\n",
    "<details>\n",
    "<summary><font size=\"2\">Typical Cell Imports and Settings for ADS</font></summary>\n",
    "\n",
    "```python\n",
    "%load_ext autoreload\n",
    "%autoreload 2\n",
    "%matplotlib inline\n",
    "\n",
    "import warnings\n",
    "warnings.filterwarnings('ignore')\n",
    "\n",
    "import logging\n",
    "logging.basicConfig(format='%(levelname)s:%(message)s', level=logging.ERROR)\n",
    "\n",
    "import ads\n",
    "from ads.dataset.factory import DatasetFactory\n",
    "from ads.automl.provider import OracleAutoMLProvider\n",
    "from ads.automl.driver import AutoML\n",
    "from ads.evaluations.evaluator import ADSEvaluator\n",
    "from ads.common.data import ADSData\n",
    "from ads.explanations.explainer import ADSExplainer\n",
    "from ads.explanations.mlx_global_explainer import MLXGlobalExplainer\n",
    "from ads.explanations.mlx_local_explainer import MLXLocalExplainer\n",
    "from ads.catalog.model import ModelCatalog\n",
    "from ads.common.model_artifact import ModelArtifact\n",
    "```\n",
    "</details>\n",
    "<details>\n",
    "<summary><font size=\"2\">Useful Environment Variables</font></summary>\n",
    "\n",
    "```python\n",
    "import os\n",
    "print(os.environ[\"NB_SESSION_COMPARTMENT_OCID\"])\n",
    "print(os.environ[\"PROJECT_OCID\"])\n",
    "print(os.environ[\"USER_OCID\"])\n",
    "print(os.environ[\"TENANCY_OCID\"])\n",
    "print(os.environ[\"NB_REGION\"])\n",
    "```\n",
    "</details>"
   ]
  },
  {
   "cell_type": "code",
   "execution_count": 1,
   "id": "74d6d2ec-aabd-48e4-aee9-d704b52216f6",
   "metadata": {
    "tags": []
   },
   "outputs": [],
   "source": [
    "import requests\n",
    "response = requests.get(\"https://oracle.com\")\n",
    "assert response.status_code==200, \"Internet connection failed\""
   ]
  },
  {
   "cell_type": "code",
   "execution_count": 11,
   "id": "8a484892-ef64-4ae7-84f3-0bec473ededf",
   "metadata": {
    "tags": []
   },
   "outputs": [
    {
     "name": "stdout",
     "output_type": "stream",
     "text": [
      "Name: langchain\n",
      "Version: 0.2.7\n",
      "Summary: Building applications with LLMs through composability\n",
      "Home-page: https://github.com/langchain-ai/langchain\n",
      "Author: \n",
      "Author-email: \n",
      "License: MIT\n",
      "Location: /home/datascience/conda/forecast_p38_cpu_v2/lib/python3.8/site-packages\n",
      "Requires: aiohttp, async-timeout, langchain-core, langchain-text-splitters, langsmith, numpy, pydantic, PyYAML, requests, SQLAlchemy, tenacity\n",
      "Required-by: langchain-community\n",
      "Note: you may need to restart the kernel to use updated packages.\n"
     ]
    }
   ],
   "source": [
    "pip install -qU langchain-community oci\n",
    "pip install -qU oci-cli\n",
    "pip install -qU oracledb"
   ]
  },
  {
   "cell_type": "code",
   "execution_count": 2,
   "id": "7ad7e613-b933-486c-85fa-02cee441d749",
   "metadata": {
    "tags": []
   },
   "outputs": [
    {
     "name": "stdout",
     "output_type": "stream",
     "text": [
      "Connection successful!\n"
     ]
    }
   ],
   "source": [
    "import oracledb\n",
    "\n",
    "oracledb.init_oracle_client()\n",
    "\n",
    "username = \"docuser\"\n",
    "password = \"\"\n",
    "dsn = \"168.138.xxx.xxx:1521/DB23ai_pdb1.sub03130715110.dshandson.oraclevcn.com\"\n",
    "\n",
    "try:\n",
    "    connection = oracledb.connect(user=username, password=password, dsn=dsn)\n",
    "    print(\"Connection successful!\")\n",
    "except oracledb.DatabaseError as e:\n",
    "    error, = e.args\n",
    "    print(f\"Database connection failed: {error.code} - {error.message}\")\n",
    "except Exception as e:\n",
    "    print(f\"Connection failed: {str(e)}\")"
   ]
  },
  {
   "cell_type": "code",
   "execution_count": 3,
   "id": "b424f12a-94ad-4169-8596-e7a1ba54940c",
   "metadata": {
    "tags": []
   },
   "outputs": [],
   "source": [
    "from langchain_community.vectorstores import oraclevs\n",
    "from langchain_community.vectorstores.oraclevs import OracleVS\n",
    "from langchain_community.vectorstores.utils import DistanceStrategy\n",
    "from langchain_core.documents import Document\n",
    "from langchain_community.embeddings import OCIGenAIEmbeddings\n",
    "\n",
    "embeddings = OCIGenAIEmbeddings(\n",
    "    model_id=\"cohere.embed-multilingual-v3.0\",\n",
    "    service_endpoint=\"https://inference.generativeai.us-chicago-1.oci.oraclecloud.com\",\n",
    "    compartment_id=\"ocid1.compartment.oc1..aaaaaaaapuxfjatczlx7lg2vctk27x4mm\",)"
   ]
  },
  {
   "cell_type": "code",
   "execution_count": 4,
   "id": "e2669a53-4ef4-4d8e-9f1f-5d0c63184400",
   "metadata": {
    "tags": []
   },
   "outputs": [],
   "source": [
    "documents = [Document(page_content='当社が開発したロケットエンジンである OraBooster は、次世代の宇宙探査を支える先進的な推進技術の\\n象徴です', metadata={'source': '/tmp/rocket.pdf', 'page': 0}), \n",
    "Document(page_content='その独自の設計は、高性能と革新性を融合させ、人類の宇宙進出を加速させるための革命的\\nな一歩となります。\\nこのエンジンの核となるのは、量子ダイナミックス・プラズマ・ブースターです', metadata={'source': '/tmp/rocket.pdf', 'page': 0}), \n",
    "Document(page_content='このブースターは、\\n量子力学の原理に基づいてプラズマを生成し、超高速で加速させます。その結果、従来の化学反応より\\nもはるかに高い推力を発生し、遠く離れた惑星や星系への探査を可能にします', metadata={'source': '/tmp/rocket.pdf', 'page': 0}), \n",
    "Document(page_content='さらに、エンジンの外殻にはナノファイバー製の超軽量かつ超強度の素材が使用されています。この素\\n材は、宇宙空間の過酷な環境に耐え、高速での飛行中に生じる熱や衝撃からロケットを守ります', metadata={'source': '/tmp/rocket.pdf', 'page': 0}), \n",
    "Document(page_content='また、ハイパーフォトン・ジャイロスコープが搭載されており、極めて高い精度でロケットの姿勢を維\\n持し、目標を追跡します', metadata={'source': '/tmp/rocket.pdf', 'page': 0}), \n",
    "Document(page_content='これにより、長時間にわたる宇宙飛行中でも安定した飛行軌道を維持し、\\nミッションの成功を確保します。\\nさらに、バイオニック・リアクション・レスポンダーが統合されています', metadata={'source': '/tmp/rocket.pdf', 'page': 0}), \n",
    "Document(page_content='このシステムは、人工知能\\nと生体認識技術を組み合わせ、ロケットの異常な振動や動きを検知し、自己修復機能を活性化します', metadata={'source': '/tmp/rocket.pdf', 'page': 0}), \n",
    "Document(page_content='総じて、この新開発のロケットエンジンは、革新的な技術と未来志向の設計によって、宇宙探査の新た\\nな時代を切り開くことでしょう', metadata={'source': '/tmp/rocket.pdf', 'page': 0}), \n",
    "Document(page_content='その高い性能と信頼性は、人類の夢を実現するための力強い支援とな\\nることでしょう', metadata={'source': '/tmp/rocket.pdf', 'page': 0})]\n",
    "\n",
    "vector_store_dot = OracleVS.from_documents(\n",
    "    documents,  # チャンクしたドキュメント\n",
    "    embeddings,  # エンベディングのモデル\n",
    "    client=connection,           # DB接続対象\n",
    "    table_name=\"doc_table_1\",    # ベクターデータのテーブル名\n",
    "    distance_strategy=DistanceStrategy.DOT_PRODUCT  # ベクター距離計算の方法\n",
    ")"
   ]
  },
  {
   "cell_type": "code",
   "execution_count": 5,
   "id": "68355b6a-fbd0-4a3d-b6fd-dbd93bb2cbc5",
   "metadata": {},
   "outputs": [],
   "source": [
    "oraclevs.create_index(connection, vector_store_dot, params={\"idx_name\": \"rocket\", \"idx_type\": \"IVF\"})"
   ]
  },
  {
   "cell_type": "code",
   "execution_count": 6,
   "id": "3272dae3-9803-414e-b62b-943b54574b7e",
   "metadata": {},
   "outputs": [],
   "source": [
    "from langchain_core.prompts import ChatPromptTemplate\n",
    "from langchain_core.messages import AIMessage, HumanMessage, SystemMessage\n",
    "\n",
    "\n",
    "# promptの作成\n",
    "template = \"\"\"contextに従って回答してください:\n",
    "{context}\n",
    "\n",
    "質問: {question}\n",
    "\"\"\"\n",
    "\n",
    "prompt = ChatPromptTemplate.from_template(template)"
   ]
  },
  {
   "cell_type": "code",
   "execution_count": 7,
   "id": "55e985aa-e968-4739-9aa8-c307082f62dd",
   "metadata": {
    "tags": []
   },
   "outputs": [],
   "source": [
    "from langchain_community.chat_models.oci_generative_ai import ChatOCIGenAI\n",
    "\n",
    "llm = ChatOCIGenAI(\n",
    "    model_id=\"cohere.command-r-plus\",\n",
    "    service_endpoint=\"https://inference.generativeai.us-chicago-1.oci.oraclecloud.com\",\n",
    "    compartment_id=\"ocid1.compartment.oc1..aaaaaaaapuxfjatczlx7lg2vctk27x4mmvsq4jkrpqzejkcib3bgsl3jdyma\",\n",
    "    model_kwargs={\"temperature\": 0.7, \"max_tokens\": 500},\n",
    ")\n",
    "\n",
    "#response = llm.invoke(\"Tell me one fact about earth\", temperature=0.7)\n",
    "#print(response)"
   ]
  },
  {
   "cell_type": "code",
   "execution_count": 8,
   "id": "fa829ca9-d7b5-47fd-9f00-d817d3ac55e8",
   "metadata": {
    "tags": []
   },
   "outputs": [],
   "source": [
    "retriever = vector_store_dot.as_retriever()"
   ]
  },
  {
   "cell_type": "code",
   "execution_count": 9,
   "id": "bfc3376b-bc50-4120-8549-7bcd403dc9d3",
   "metadata": {
    "tags": []
   },
   "outputs": [],
   "source": [
    "from langchain.schema.runnable import RunnablePassthrough\n",
    "from langchain.schema.output_parser import StrOutputParser\n",
    "\n",
    "chain = (\n",
    "    {\"context\": retriever, \"question\": RunnablePassthrough()}\n",
    "    | prompt\n",
    "    | llm\n",
    "    | StrOutputParser()\n",
    ")"
   ]
  },
  {
   "cell_type": "code",
   "execution_count": 10,
   "id": "4eeb4580-0506-47b0-8b7b-e157e626a9c8",
   "metadata": {
    "tags": []
   },
   "outputs": [
    {
     "name": "stdout",
     "output_type": "stream",
     "text": [
      "OraBooster は、次世代の宇宙探査のための先進的な推進技術を実現するロケットエンジンです。量子力学の原理を利用してプラズマを生成・加速させることで、高い推力を生み出し、遠く離れた惑星や星系への探査を可能にします。また、ハイパーフォトン・ジャイロスコープを搭載することで、極めて高い精度でロケットの姿勢制御と目標追跡を行います。その高い性能と信頼性は、人類の宇宙探査の夢を実現する力強い支援となるでしょう。\n"
     ]
    }
   ],
   "source": [
    "print(chain.invoke(\"OraBoosterとは何ですか?\"))"
   ]
  }
 ],
 "metadata": {
  "kernelspec": {
   "display_name": "Python [conda env:forecast_p38_cpu_v2]",
   "language": "python",
   "name": "conda-env-forecast_p38_cpu_v2-py"
  },
  "language_info": {
   "codemirror_mode": {
    "name": "ipython",
    "version": 3
   },
   "file_extension": ".py",
   "mimetype": "text/x-python",
   "name": "python",
   "nbconvert_exporter": "python",
   "pygments_lexer": "ipython3",
   "version": "3.8.16"
  }
 },
 "nbformat": 4,
 "nbformat_minor": 5
}
